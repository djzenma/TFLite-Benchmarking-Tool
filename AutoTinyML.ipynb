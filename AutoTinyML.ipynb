{
 "nbformat": 4,
 "nbformat_minor": 0,
 "metadata": {
  "colab": {
   "name": "AutoTinyML.ipynb",
   "provenance": [],
   "collapsed_sections": [],
   "authorship_tag": "ABX9TyNFjRe5TnT0CmlFg8EqMAwY"
  },
  "kernelspec": {
   "name": "python3",
   "language": "python",
   "display_name": "Python 3"
  },
  "pycharm": {
   "stem_cell": {
    "cell_type": "raw",
    "source": [],
    "metadata": {
     "collapsed": false
    }
   }
  }
 },
 "cells": [
  {
   "cell_type": "code",
   "execution_count": 8,
   "outputs": [
    {
     "name": "stdout",
     "text": [
      "Collecting flatbuffers\r\n",
      "  Downloading https://files.pythonhosted.org/packages/eb/26/712e578c5f14e26ae3314c39a1bdc4eb2ec2f4ddc89b708cf8e0a0d20423/flatbuffers-1.12-py2.py3-none-any.whl\r\n",
      "Installing collected packages: flatbuffers\r\n",
      "Successfully installed flatbuffers-1.12\r\n",
      "Collecting pypng\r\n",
      "\u001b[?25l  Downloading https://files.pythonhosted.org/packages/bc/fb/f719f1ac965e2101aa6ea6f54ef8b40f8fbb033f6ad07c017663467f5147/pypng-0.0.20.tar.gz (649kB)\r\n\r\u001b[K    1% |▌                               | 10kB 1.3MB/s eta 0:00:01",
      "\r\u001b[K    3% |█                               | 20kB 212kB/s eta 0:00:03\r\u001b[K    4% |█▌                              | 30kB 281kB/s eta 0:00:03",
      "\r\u001b[K    6% |██                              | 40kB 226kB/s eta 0:00:03\r\u001b[K    7% |██▌                             | 51kB 258kB/s eta 0:00:03\r\u001b[K    9% |███                             | 61kB 294kB/s eta 0:00:02\r\u001b[K    11% |███▌                            | 71kB 327kB/s eta 0:00:02",
      "\r\u001b[K    12% |████                            | 81kB 344kB/s eta 0:00:02",
      "\r\u001b[K    14% |████▌                           | 92kB 331kB/s eta 0:00:02\r\u001b[K    15% |█████                           | 102kB 355kB/s eta 0:00:02\r\u001b[K    17% |█████▌                          | 112kB 352kB/s eta 0:00:02\r\u001b[K    18% |██████                          | 122kB 494kB/s eta 0:00:02\r\u001b[K    20% |██████▋                         | 133kB 516kB/s eta 0:00:01\r\u001b[K    22% |███████                         | 143kB 767kB/s eta 0:00:01\r\u001b[K    23% |███████▋                        | 153kB 810kB/s eta 0:00:01",
      "\r\u001b[K    25% |████████                        | 163kB 863kB/s eta 0:00:01\r\u001b[K    26% |████████▋                       | 174kB 878kB/s eta 0:00:01\r\u001b[K    28% |█████████                       | 184kB 1.0MB/s eta 0:00:01\r\u001b[K    29% |█████████▋                      | 194kB 1.3MB/s eta 0:00:01\r\u001b[K    31% |██████████                      | 204kB 1.2MB/s eta 0:00:01",
      "\r\u001b[K    33% |██████████▋                     | 215kB 1.2MB/s eta 0:00:01\r\u001b[K    34% |███████████                     | 225kB 1.2MB/s eta 0:00:01\r\u001b[K    36% |███████████▋                    | 235kB 1.1MB/s eta 0:00:01\r\u001b[K    37% |████████████                    | 245kB 1.2MB/s eta 0:00:01\r\u001b[K    39% |████████████▋                   | 256kB 1.2MB/s eta 0:00:01\r\u001b[K    40% |█████████████▏                  | 266kB 1.2MB/s eta 0:00:01\r\u001b[K    42% |█████████████▋                  | 276kB 1.3MB/s eta 0:00:01\r\u001b[K    44% |██████████████▏                 | 286kB 1.1MB/s eta 0:00:01\r\u001b[K    45% |██████████████▋                 | 296kB 1.3MB/s eta 0:00:01",
      "\r\u001b[K    47% |███████████████▏                | 307kB 1.6MB/s eta 0:00:01\r\u001b[K    48% |███████████████▋                | 317kB 1.2MB/s eta 0:00:01\r\u001b[K    50% |████████████████▏               | 327kB 1.3MB/s eta 0:00:01\r\u001b[K    52% |████████████████▋               | 337kB 1.3MB/s eta 0:00:01\r\u001b[K    53% |█████████████████▏              | 348kB 1.3MB/s eta 0:00:01\r\u001b[K    55% |█████████████████▋              | 358kB 1.4MB/s eta 0:00:01",
      "\r\u001b[K    56% |██████████████████▏             | 368kB 1.3MB/s eta 0:00:01\r\u001b[K    58% |██████████████████▋             | 378kB 1.3MB/s eta 0:00:01\r\u001b[K    59% |███████████████████▏            | 389kB 1.4MB/s eta 0:00:01\r\u001b[K    61% |███████████████████▊            | 399kB 1.3MB/s eta 0:00:01\r\u001b[K    63% |████████████████████▏           | 409kB 1.4MB/s eta 0:00:01\r\u001b[K    64% |████████████████████▊           | 419kB 2.0MB/s eta 0:00:01\r\u001b[K    66% |█████████████████████▏          | 430kB 2.0MB/s eta 0:00:01\r\u001b[K    67% |█████████████████████▊          | 440kB 2.1MB/s eta 0:00:01\r\u001b[K    69% |██████████████████████▏         | 450kB 1.8MB/s eta 0:00:01\r\u001b[K    70% |██████████████████████▊         | 460kB 1.9MB/s eta 0:00:01",
      "\r\u001b[K    72% |███████████████████████▏        | 471kB 2.0MB/s eta 0:00:01\r\u001b[K    74% |███████████████████████▊        | 481kB 1.7MB/s eta 0:00:01\r\u001b[K    75% |████████████████████████▏       | 491kB 2.1MB/s eta 0:00:01\r\u001b[K    77% |████████████████████████▊       | 501kB 2.1MB/s eta 0:00:01\r\u001b[K    78% |█████████████████████████▎      | 512kB 2.0MB/s eta 0:00:01\r\u001b[K    80% |█████████████████████████▊      | 522kB 2.0MB/s eta 0:00:01\r\u001b[K    81% |██████████████████████████▎     | 532kB 1.9MB/s eta 0:00:01\r\u001b[K    83% |██████████████████████████▊     | 542kB 2.2MB/s eta 0:00:01\r\u001b[K    85% |███████████████████████████▎    | 552kB 2.1MB/s eta 0:00:01\r\u001b[K    86% |███████████████████████████▊    | 563kB 1.8MB/s eta 0:00:01",
      "\r\u001b[K    88% |████████████████████████████▎   | 573kB 2.0MB/s eta 0:00:01\r\u001b[K    89% |████████████████████████████▊   | 583kB 2.2MB/s eta 0:00:01\r\u001b[K    91% |█████████████████████████████▎  | 593kB 2.2MB/s eta 0:00:01\r\u001b[K    93% |█████████████████████████████▊  | 604kB 2.0MB/s eta 0:00:01\r\u001b[K    94% |██████████████████████████████▎ | 614kB 1.8MB/s eta 0:00:01\r\u001b[K    96% |██████████████████████████████▊ | 624kB 2.0MB/s eta 0:00:01\r\u001b[K    97% |███████████████████████████████▎| 634kB 2.0MB/s eta 0:00:01\r\u001b[K    99% |███████████████████████████████▉| 645kB 1.9MB/s eta 0:00:01\r\u001b[K    100% |████████████████████████████████| 655kB 2.0MB/s \r\n",
      "\u001b[?25hBuilding wheels for collected packages: pypng\r\n",
      "  Building wheel for pypng (setup.py) ... \u001b[?25l-",
      "\b \b\\",
      "\b \b|",
      "\b \bdone\r\n\u001b[?25h  Stored in directory: /Users/Mazen/Library/Caches/pip/wheels/41/6b/ef/0493b536b6d4722c2ae9486691b1d49b922b9877922beeabb3\r\n",
      "Successfully built pypng\r\n",
      "Installing collected packages: pypng\r\n",
      "Successfully installed pypng-0.0.20\r\n"
     ],
     "output_type": "stream"
    }
   ],
   "source": [
    "!pip install flatbuffers\n",
    "!pip install pypng"
   ],
   "metadata": {
    "collapsed": false,
    "pycharm": {
     "name": "#%%\n",
     "is_executing": false
    }
   }
  },
  {
   "cell_type": "code",
   "metadata": {
    "id": "To9jqyDTdeBl",
    "colab_type": "code",
    "colab": {},
    "pycharm": {
     "is_executing": false
    }
   },
   "source": [
    "import flatbuffer_reader as reader\n",
    "import subprocess\n",
    "import numpy as np\n",
    "import math\n",
    "import re\n",
    "import pandas as pd\n",
    "import os\n",
    "import csv"
   ],
   "execution_count": 3,
   "outputs": []
  },
  {
   "cell_type": "code",
   "execution_count": 4,
   "outputs": [],
   "source": [
    "class Utils:\n",
    "\n",
    "  def format_bytes(self, bytes):\n",
    "\n",
    "    if bytes < 1024:\n",
    "      return str(bytes) + \" Bytes\"\n",
    "    elif bytes < (1024*1024):\n",
    "      return '{0:1.3g}'.format(bytes/1024) + \" Kilobytes\"\n",
    "    elif bytes < (1024*1024*1024):\n",
    "      return '{0:1.3g}'.format(bytes/(1024*1024)) + \" Megabytes\"\n",
    "    elif bytes < (1024*1024*1024*1024):\n",
    "      return '{0:1.3g}'.format(bytes/(1024*1024*1024)) + \" Gigabytes\"\n",
    "\n",
    "\n",
    "  def format_left(self, str, width, pad_char = \" \"):\n",
    "\n",
    "    if len(str) >= width:\n",
    "        return str\n",
    "\n",
    "    right_pad = width - len(str)\n",
    "\n",
    "    return str + (pad_char * right_pad)\n",
    "\n",
    "  def format_centre(self, str, width, pad_char = \" \"):\n",
    "\n",
    "    if len(str) >= width:\n",
    "        return str\n",
    "\n",
    "    left_pad = math.floor((width - len(str)) / 2)\n",
    "    right_pad = width - len(str) - left_pad\n",
    "    \n",
    "    #return (pad_char * left_pad) + str + (pad_char * right_pad)\n",
    "    return (pad_char * int(left_pad)) + str + (pad_char * int(right_pad))\n",
    "\n",
    "  def print_weights_summary(self, model):\n",
    "\n",
    "    print(\"\\nWeights Summary:\")\n",
    "    print(\"\\n%s Weight tensors, containing %s weights, taking %s\\n\" %\n",
    "          ('{:,}'.format(model.weights_tensor_count),\n",
    "           '{:,}'.format(model.total_weights),\n",
    "           self.format_bytes(model.total_weights_bytes)))\n",
    "    for weight_type in model.weight_types:\n",
    "        totals = model.weight_types[weight_type]\n",
    "        if totals['weights'] > 0:\n",
    "            print(\"  %15s %10s weights taking %s\" %\n",
    "                  ('{:,}'.format(totals['weights']),\n",
    "                   model.types[weight_type],\n",
    "                   self.format_bytes(totals['bytes'])))\n",
    "\n",
    "    max_name_len = 0\n",
    "    max_size_len = 0\n",
    "    for i, tensor in enumerate(model.tensors):\n",
    "        if tensor.Buffer() != 0 and model.buffers[tensor.Buffer()].DataLength() != 0:\n",
    "            max_name_len = max(max_name_len, len(tensor.Name().decode(\"utf-8\")))\n",
    "        shape_str = \"scalar\"\n",
    "\n",
    "        tensors_array = tensor.ShapeAsNumpy()\n",
    "        if type(tensors_array) is int:   # is not array (only 1 element)\n",
    "          tensors_array = np.array([tensors_array])\n",
    "        \n",
    "        if tensors_array.size > 0:\n",
    "            dim_strings = []\n",
    "            for d in tensors_array:\n",
    "                dim_strings += [str(d)]\n",
    "            \n",
    "            shape_str = \"(%s)\" % (', '.join(dim_strings))\n",
    "        \n",
    "        max_size_len = max(max_size_len, len(shape_str))\n",
    "\n",
    "    header_string = \"Weights Details%s   type     %s      size      \" % \\\n",
    "                          ((\" \" * (max_name_len - 13)),\n",
    "                          self.format_centre(\" (shape) \", max_size_len, \"-\"))\n",
    "    print(\"\\n%s\\n%s\" %\n",
    "          (header_string,\n",
    "          \"-\" * len(header_string)))\n",
    "    \n",
    "    for i, tensor in enumerate(model.tensors):\n",
    "        # if this tensor isn't pointing to the null buffer and is defined\n",
    "        if tensor.Buffer() != 0 and model.buffers[tensor.Buffer()].DataLength() != 0:\n",
    "            name = tensor.Name().decode(\"utf-8\")\n",
    "            shape_str = \"scalar\"\n",
    "\n",
    "            tensors_array = tensor.ShapeAsNumpy()\n",
    "            if type(tensors_array) is int:   # is not array (only 1 element)\n",
    "              tensors_array = np.array([tensors_array])\n",
    "\n",
    "            if tensors_array.size > 0:\n",
    "                dim_strings = []\n",
    "                for d in tensors_array:\n",
    "                    dim_strings += [str(d)]\n",
    "                shape_str = \"(%s)\" % (', '.join(dim_strings))\n",
    "\n",
    "            size_bytes = model.buffers[tensor.Buffer()].DataLength()\n",
    "\n",
    "            print(\"%s%s %10s %s %s\" %\n",
    "                  (name,\n",
    "                  \" \" * (max_name_len - len(name)),\n",
    "                  self.format_centre(model.types[tensor.Type()],12),\n",
    "                  self.format_left(shape_str,max(9, max_size_len)),\n",
    "                  self.format_left(self.format_bytes(size_bytes),14)))\n",
    "            \n",
    "  def get_weights_size(self, model):\n",
    "    size = 0\n",
    "    weights_num = 0\n",
    "    for weight_type in model.weight_types:\n",
    "        totals = model.weight_types[weight_type]\n",
    "        if totals['weights'] > 0:\n",
    "          size += totals['bytes']\n",
    "          weights_num += totals['weights']\n",
    "\n",
    "    return weights_num, size"
   ],
   "metadata": {
    "collapsed": false,
    "pycharm": {
     "name": "#%%\n",
     "is_executing": false
    }
   }
  },
  {
   "cell_type": "code",
   "metadata": {
    "id": "xzYNXVpYrRRA",
    "colab_type": "code",
    "colab": {},
    "pycharm": {
     "is_executing": false
    }
   },
   "source": [
    "def read_model(file_name, GRAPH_INDEX = 0):\n",
    "  tflite_file = None\n",
    "  try:\n",
    "      tflite_file = open(file_name, 'rb')\n",
    "  except IOError:\n",
    "      print(\"Failed to open file \\\"%s\\\".\" % file_name)\n",
    "      quit()\n",
    "\n",
    "  print(\"=\" * (len(file_name)+14+21))\n",
    "  print(\"====== Reading flatbuffer \\\"%s\\\" ======\" % file_name)\n",
    "  print(\"=\" * (len(file_name)+14+21))\n",
    "  flatbuffer = tflite_file.read()\n",
    "  print(\"Model Read Successful\")\n",
    "\n",
    "  base_name = file_name\n",
    "  if base_name[-7:] == \".tflite\":\n",
    "      base_name = base_name[:-7]\n",
    "          \n",
    "  return reader.AnalysedTFliteModel(flatbuffer, GRAPH_INDEX)"
   ],
   "execution_count": 5,
   "outputs": []
  },
  {
   "cell_type": "code",
   "execution_count": 6,
   "outputs": [
    {
     "name": "stdout",
     "text": [
      "=========================================================================\n====== Reading flatbuffer \"model/car_sensor_reduced_drange.tflite\" ======\n=========================================================================\nModel Read Successful\n"
     ],
     "output_type": "stream"
    }
   ],
   "source": [
    "file_name = 'model/car_sensor_reduced_drange.tflite'\n",
    "model = read_model(file_name, GRAPH_INDEX = 0)"
   ],
   "metadata": {
    "collapsed": false,
    "pycharm": {
     "name": "#%%\n",
     "is_executing": false
    }
   }
  },
  {
   "cell_type": "code",
   "execution_count": 7,
   "outputs": [
    {
     "name": "stdout",
     "text": [
      "1809 2628\n"
     ],
     "output_type": "stream"
    }
   ],
   "source": [
    "utils = Utils()\n",
    "weights_num, size = utils.get_weights_size(model)\n",
    "print(weights_num, size)"
   ],
   "metadata": {
    "collapsed": false,
    "pycharm": {
     "name": "#%%\n",
     "is_executing": false
    }
   }
  },
  {
   "cell_type": "code",
   "metadata": {
    "id": "JcxKJ8wtrRyv",
    "colab_type": "code",
    "colab": {},
    "pycharm": {
     "is_executing": false
    }
   },
   "source": [
    "outdir = 'output'\n",
    "if not os.path.isdir(outdir):\n",
    "    os.mkdir(outdir)\n",
    "output_report = outdir+'/report.csv'\n",
    "cmd = 'tensorflow/bazel-bin/tensorflow/lite/tools/benchmark/benchmark_model --graph=model/car_sensor_reduced_drange.tflite --enable_op_profiling=true --profiling_output_csv_file=\"'+output_report+'\"'\n",
    "os.system(cmd)\n",
    "#output = subprocess.check_output(['tensorflow/bazel-bin/tensorflow/lite/tools/benchmark/benchmark_model',\n",
    "#                         '--graph='+file_name, '-enable_op_profiling=true', '--profiling_output_csv_file=' + 'report.csv']).decode('utf-8')\n",
    "#init = int(re.search(\"\\d+\", re.search(\"Init: \\d+\",output).group(0)).group(0))\n",
    "#inf_1st = int(re.search(\"\\d+\", re.search(\"First inference: \\d+\",output).group(0)).group(0))\n",
    "#warm = int(re.search(\"\\d+\", re.search(\"Warmup (avg): \\d+\",output).group(0)).group(0))"
   ],
   "execution_count": 47,
   "outputs": [
    {
     "data": {
      "text/plain": "0"
     },
     "metadata": {},
     "output_type": "execute_result",
     "execution_count": 47
    }
   ]
  },
  {
   "cell_type": "code",
   "execution_count": 49,
   "outputs": [],
   "source": [
    "with open(output_report, mode='r') as report:\n",
    "    csv_reader = csv.reader(report, delimiter=',')\n",
    "    memory_rows = [['Memory Summary:'],\n",
    "              ['Number of Weights:', str(weights_num)],\n",
    "              ['Weights Size (KB):', str(size)],\n",
    "              ['=================================================================='],\n",
    "              []]\n",
    "    rows = []\n",
    "    for row in memory_rows:\n",
    "        rows.append(row)\n",
    "    for row in csv_reader:\n",
    "        rows.append(row)\n",
    "        \n",
    "with open(output_report, mode='w') as report:        \n",
    "    csv_writer = csv.writer(report, delimiter=',', quotechar='\"', quoting=csv.QUOTE_MINIMAL)\n",
    "\n",
    "    for row in rows:    \n",
    "        csv_writer.writerow(row)"
   ],
   "metadata": {
    "collapsed": false,
    "pycharm": {
     "name": "#%%\n",
     "is_executing": false
    }
   }
  },
  {
   "cell_type": "code",
   "execution_count": 46,
   "outputs": [
    {
     "data": {
      "text/plain": "[[['Memory Summary:'],\n  ['Number of Weights:', '1809'],\n  ['Weights Size (KB):', '2628'],\n  ['==================================================================']],\n [\"['Memory Summary:']\",\n  \"['Number of Weights:', '1809']\",\n  \"['Weights Size (KB):', '2628']\",\n  \"['==================================================================']\"],\n ['Profiling Info for Benchmark Initialization:'],\n ['============================== Run Order =============================='],\n ['node type',\n  ' start',\n  ' first',\n  ' avg_ms',\n  ' %',\n  ' cdf%',\n  ' mem KB',\n  ' times called',\n  ' name'],\n ['AllocateTensors',\n  ' 0',\n  ' 0.073',\n  ' 0.073',\n  ' 100%',\n  ' 100%',\n  ' 0',\n  ' 1',\n  ' AllocateTensors/0'],\n [],\n ['============================== Top by Computation Time =============================='],\n ['node type',\n  ' start',\n  ' first',\n  ' avg_ms',\n  ' %',\n  ' cdf%',\n  ' mem KB',\n  ' times called',\n  ' name'],\n ['AllocateTensors',\n  ' 0',\n  ' 0.073',\n  ' 0.073',\n  ' 100%',\n  ' 100%',\n  ' 0',\n  ' 1',\n  ' AllocateTensors/0'],\n [],\n ['Number of nodes executed: 1'],\n ['============================== Summary by node type =============================='],\n ['node type',\n  ' count',\n  ' avg_ms',\n  ' avg %',\n  ' cdf %',\n  ' mem KB',\n  ' times called'],\n ['AllocateTensors', ' 1', ' 0.073', ' 100%', ' 100%', ' 0', ' 1'],\n [],\n ['Timings (microseconds): count=1 curr=73'],\n ['Memory (bytes): count=0'],\n ['1 nodes observed'],\n [],\n [],\n ['Operator-wise Profiling Info for Regular Benchmark Runs:'],\n ['============================== Run Order =============================='],\n ['node type',\n  ' start',\n  ' first',\n  ' avg_ms',\n  ' %',\n  ' cdf%',\n  ' mem KB',\n  ' times called',\n  ' name'],\n ['EXPAND_DIMS',\n  ' 0',\n  ' 0.001',\n  ' 0.000200687',\n  ' 0.513203%',\n  ' 0.513203%',\n  ' 0',\n  ' 1',\n  ' [vehicle_cnn/conv_1/conv1d/ExpandDims]:0'],\n ['CONV_2D',\n  ' 0.000257356',\n  ' 0.006',\n  ' 0.00677861',\n  ' 17.3344%',\n  ' 17.8476%',\n  ' 0',\n  ' 1',\n  ' [vehicle_cnn/conv_1/conv1d2]:1'],\n ['SQUEEZE',\n  ' 0.00709263',\n  ' 0.001',\n  ' 0.000238327',\n  ' 0.609455%',\n  ' 18.4571%',\n  ' 0',\n  ' 1',\n  ' [vehicle_cnn/conv_1/conv1d/Squeeze]:2'],\n ['ADD',\n  ' 0.00739811',\n  ' 0.001',\n  ' 0.00127924',\n  ' 3.27129%',\n  ' 21.7284%',\n  ' 0',\n  ' 1',\n  ' [vehicle_cnn/conv_1/BiasAdd]:3'],\n ['RELU',\n  ' 0.00873527',\n  ' 0.001',\n  ' 0.000398608',\n  ' 1.01933%',\n  ' 22.7477%',\n  ' 0',\n  ' 1',\n  ' [vehicle_cnn/conv_1/Relu]:4'],\n ['EXPAND_DIMS',\n  ' 0.0091861',\n  ' 0',\n  ' 0.00018979',\n  ' 0.485335%',\n  ' 23.2331%',\n  ' 0',\n  ' 1',\n  ' [vehicle_cnn/max_pool_1/ExpandDims]:5'],\n ['MAX_POOL_2D',\n  ' 0.00942963',\n  ' 0.004',\n  ' 0.00376637',\n  ' 9.63145%',\n  ' 32.8645%',\n  ' 0',\n  ' 1',\n  ' [vehicle_cnn/max_pool_1/MaxPool]:6'],\n ['SQUEEZE',\n  ' 0.0132459',\n  ' 0',\n  ' 0.000153827',\n  ' 0.39337%',\n  ' 33.2579%',\n  ' 0',\n  ' 1',\n  ' [vehicle_cnn/max_pool_1/Squeeze]:7'],\n ['EXPAND_DIMS',\n  ' 0.0134476',\n  ' 0',\n  ' 0.000177802',\n  ' 0.45468%',\n  ' 33.7126%',\n  ' 0',\n  ' 1',\n  ' [vehicle_cnn/conv_2/conv1d/ExpandDims]:8'],\n ['CONV_2D',\n  ' 0.0136925',\n  ' 0.013',\n  ' 0.0135319',\n  ' 34.6041%',\n  ' 68.3167%',\n  ' 0',\n  ' 1',\n  ' [vehicle_cnn/conv_2/conv1d2]:9'],\n ['SQUEEZE',\n  ' 0.0272812',\n  ' 0',\n  ' 0.000369771',\n  ' 0.945588%',\n  ' 69.2623%',\n  ' 0',\n  ' 1',\n  ' [vehicle_cnn/conv_2/conv1d/Squeeze]:10'],\n ['ADD',\n  ' 0.0277045',\n  ' 0.001',\n  ' 0.000899824',\n  ' 2.30105%',\n  ' 71.5633%',\n  ' 0',\n  ' 1',\n  ' [vehicle_cnn/conv_2/BiasAdd]:11'],\n ['RELU',\n  ' 0.0286636',\n  ' 0.001',\n  ' 0.000353424',\n  ' 0.903786%',\n  ' 72.4671%',\n  ' 0',\n  ' 1',\n  ' [vehicle_cnn/conv_2/Relu]:12'],\n ['EXPAND_DIMS',\n  ' 0.0290714',\n  ' 0',\n  ' 0.000188532',\n  ' 0.482119%',\n  ' 72.9492%',\n  ' 0',\n  ' 1',\n  ' [vehicle_cnn/max_pool_2/ExpandDims]:13'],\n ['MAX_POOL_2D',\n  ' 0.0293144',\n  ' 0.002',\n  ' 0.00201626',\n  ' 5.15604%',\n  ' 78.1053%',\n  ' 0',\n  ' 1',\n  ' [vehicle_cnn/max_pool_2/MaxPool]:14'],\n ['SQUEEZE',\n  ' 0.0313859',\n  ' 0',\n  ' 0.000139408',\n  ' 0.356498%',\n  ' 78.4618%',\n  ' 0',\n  ' 1',\n  ' [vehicle_cnn/max_pool_2/Squeeze]:15'],\n ['REDUCE_MAX',\n  ' 0.031584',\n  ' 0.008',\n  ' 0.00770894',\n  ' 19.7135%',\n  ' 98.1753%',\n  ' 0',\n  ' 1',\n  ' [vehicle_cnn/global_max/Max]:16'],\n ['FULLY_CONNECTED',\n  ' 0.0393556',\n  ' 0.001',\n  ' 0.000456032',\n  ' 1.16618%',\n  ' 99.3415%',\n  ' 0',\n  ' 1',\n  ' [vehicle_cnn/fully_connected_output/BiasAdd]:17'],\n ['LOGISTIC',\n  ' 0.039867',\n  ' 0',\n  ' 0.000257524',\n  ' 0.658546%',\n  ' 100%',\n  ' 0',\n  ' 1',\n  ' [Identity]:18'],\n [],\n ['============================== Top by Computation Time =============================='],\n ['node type',\n  ' start',\n  ' first',\n  ' avg_ms',\n  ' %',\n  ' cdf%',\n  ' mem KB',\n  ' times called',\n  ' name'],\n ['CONV_2D',\n  ' 0.0136925',\n  ' 0.013',\n  ' 0.0135319',\n  ' 34.6041%',\n  ' 34.6041%',\n  ' 0',\n  ' 1',\n  ' [vehicle_cnn/conv_2/conv1d2]:9'],\n ['REDUCE_MAX',\n  ' 0.031584',\n  ' 0.008',\n  ' 0.00770894',\n  ' 19.7135%',\n  ' 54.3176%',\n  ' 0',\n  ' 1',\n  ' [vehicle_cnn/global_max/Max]:16'],\n ['CONV_2D',\n  ' 0.000257356',\n  ' 0.006',\n  ' 0.00677861',\n  ' 17.3344%',\n  ' 71.6521%',\n  ' 0',\n  ' 1',\n  ' [vehicle_cnn/conv_1/conv1d2]:1'],\n ['MAX_POOL_2D',\n  ' 0.00942963',\n  ' 0.004',\n  ' 0.00376637',\n  ' 9.63145%',\n  ' 81.2835%',\n  ' 0',\n  ' 1',\n  ' [vehicle_cnn/max_pool_1/MaxPool]:6'],\n ['MAX_POOL_2D',\n  ' 0.0293144',\n  ' 0.002',\n  ' 0.00201626',\n  ' 5.15604%',\n  ' 86.4396%',\n  ' 0',\n  ' 1',\n  ' [vehicle_cnn/max_pool_2/MaxPool]:14'],\n ['ADD',\n  ' 0.00739811',\n  ' 0.001',\n  ' 0.00127924',\n  ' 3.27129%',\n  ' 89.7109%',\n  ' 0',\n  ' 1',\n  ' [vehicle_cnn/conv_1/BiasAdd]:3'],\n ['ADD',\n  ' 0.0277045',\n  ' 0.001',\n  ' 0.000899824',\n  ' 2.30105%',\n  ' 92.0119%',\n  ' 0',\n  ' 1',\n  ' [vehicle_cnn/conv_2/BiasAdd]:11'],\n ['FULLY_CONNECTED',\n  ' 0.0393556',\n  ' 0.001',\n  ' 0.000456032',\n  ' 1.16618%',\n  ' 93.1781%',\n  ' 0',\n  ' 1',\n  ' [vehicle_cnn/fully_connected_output/BiasAdd]:17'],\n ['RELU',\n  ' 0.00873527',\n  ' 0.001',\n  ' 0.000398608',\n  ' 1.01933%',\n  ' 94.1974%',\n  ' 0',\n  ' 1',\n  ' [vehicle_cnn/conv_1/Relu]:4'],\n ['SQUEEZE',\n  ' 0.0272812',\n  ' 0',\n  ' 0.000369771',\n  ' 0.945588%',\n  ' 95.143%',\n  ' 0',\n  ' 1',\n  ' [vehicle_cnn/conv_2/conv1d/Squeeze]:10'],\n [],\n ['Number of nodes executed: 19'],\n ['============================== Summary by node type =============================='],\n ['node type',\n  ' count',\n  ' avg_ms',\n  ' avg %',\n  ' cdf %',\n  ' mem KB',\n  ' times called'],\n ['CONV_2D', ' 2', ' 0.019', ' 59.375%', ' 59.375%', ' 0', ' 2'],\n ['REDUCE_MAX', ' 1', ' 0.007', ' 21.875%', ' 81.25%', ' 0', ' 1'],\n ['MAX_POOL_2D', ' 2', ' 0.005', ' 15.625%', ' 96.875%', ' 0', ' 2'],\n ['ADD', ' 2', ' 0.001', ' 3.125%', ' 100%', ' 0', ' 2'],\n ['SQUEEZE', ' 4', ' 0', ' 0%', ' 100%', ' 0', ' 4'],\n ['RELU', ' 2', ' 0', ' 0%', ' 100%', ' 0', ' 2'],\n ['LOGISTIC', ' 1', ' 0', ' 0%', ' 100%', ' 0', ' 1'],\n ['FULLY_CONNECTED', ' 1', ' 0', ' 0%', ' 100%', ' 0', ' 1'],\n ['EXPAND_DIMS', ' 4', ' 0', ' 0%', ' 100%', ' 0', ' 4'],\n [],\n ['Timings (microseconds): count=11929 first=40 curr=33 min=29 max=3227 avg=39.1049 std=52'],\n ['Memory (bytes): count=0'],\n ['19 nodes observed'],\n [],\n []]"
     },
     "metadata": {},
     "output_type": "execute_result",
     "execution_count": 46
    }
   ],
   "source": [],
   "metadata": {
    "collapsed": false,
    "pycharm": {
     "name": "#%%\n",
     "is_executing": false
    }
   }
  }
 ]
}